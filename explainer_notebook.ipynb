{
 "cells": [
  {
   "cell_type": "markdown",
   "metadata": {
    "collapsed": true
   },
   "source": [
    "# 1. Motivation\n",
    "## 1.1 Dataset\n",
    "The main dataset was the NYC Street Tree Data from 2015 and is the result of a community survery done mainly by volunteers, cataloging all trees in NYC. As secondary data sets we had the ones regarding Street Tree Data from 1995 and 2005. Moreover, we used the air pollution data in New York City, in order to understand the influence of trees on the air quality. We also started analyzing the \"311\" dataset, to explore some complaints regarding trees.\n",
    "The Street Tree dataset was chosen because it could give new insights and perspective to urban planning, discover their status (how healthy they are, if people are taking care of those etc.), and if they are influencing the life quality of the city. Moreover we could have discovered facts that most people would probably not be aware of beforehand.  \n",
    "\n",
    "\n",
    "## 1.2 Goal\n",
    "The goal was to enlighten users about trees in NYC. Are there certain types of trees more suitable for streets than others? Where are they located? Is it possible to know which kind of tree you might encounter based on the location, health of the tree, the diameter, or even the amount of problems of the tree? From this project it should be possible to learn something new about a topic you might never have considered learning something about."
   ]
  },
  {
   "cell_type": "markdown",
   "metadata": {},
   "source": [
    "# 2. Basic stats\n",
    "## 2.1 Preprocessing the data\n",
    "### 2.1.1 Variable selection\n",
    "When taking a first glance at the dataset it was a bit overwhelming, as it's huge and there are a lot of rows which does not necessarily make sense at a first glance, as wel as a number of of variables not particularly interesting or necessary for what we wanted to do. Each variable was carefully examined and the variables deemed unnecessary were excluded. Among these was \"Tree_Id\", a unique ID for each tree, but this unique ID was unique for each of the three datasets (1995, 2005, 2015), meaning it was not possible to join the datasets by this ID, deeming it not relevant. Other excluded variables were address information, since there were multiple variables delivering address information on different levels - and it was not relevant to distinguish between all these. \n",
    "\n",
    "### 2.1.2 Observation selection\n",
    "It was decided to only focus on the top 20 tree species, since there were a lot of different species without a significant amount of observations, it would be difficult to describe them all properly. It would also be very difficult to do good predictions if the observations are sparse. \n",
    "\n",
    "There were a lot of trees without a species listed, and those were disregarded completely. The dead trees were also excluded from the dataset. \n",
    "\n",
    "It was considered to only focus on one of the five boroughs in NYC to get a more detailed view. This was not implemented since it was deemed more interesting to two differences between the boroughs as well. \n",
    "\n",
    "\n",
    "## 2.2 Stats for the preprocessed data\n",
    "The final dataset \"Street Tree Data 2015\" consists of 534,514 tree observations and 21 variables/features, totalling 74.5 MB.\n",
    "The selected features were: \n",
    "* Diameter (inches)\n",
    "* Health (three values: Good, fair, poor)\n",
    "* Spc_Latin, Spc_Common (latin and common name for the species) \n",
    "* Sidewalk_Condition (two values: Damage, NoDamage)\n",
    "* Problems (a string concatenated from the following types of problems)\n",
    " * root_stone, root_grate, root_other, trunk_wire, trnk_light, trnk_other, brch_light, brch_shoe, brch_other (two values: yes/no)\n",
    "* Address\n",
    "* Zipcode\n",
    "* CB (community board)\n",
    "* Borough\n",
    "* Latitude, Longitude\n",
    "\n",
    "Amount of trees in each borough:\n",
    "- Bronx: 63,035\n",
    "- Brooklyn: 138,760\n",
    "- Staten Island: 82,619\n",
    "- Manhattan: 54,115\n",
    "- Queens: 195,985\n",
    "\n",
    "In general, the top 20 species were the same for the 5 boroughs, but the order of this \"top 20\" list was different. There were more trees with general problems in Manhattan as well as more unhealthy trees. \n",
    "\n",
    "But let's start looking at the main dataset, the 2015 Street Tree Census (https://data.cityofnewyork.us/Environment/2015-Street-Tree-Census-Tree-Data/uvpi-gqnh).\n"
   ]
  },
  {
   "cell_type": "code",
   "execution_count": 1,
   "metadata": {
    "collapsed": false
   },
   "outputs": [
    {
     "ename": "IOError",
     "evalue": "File 2015_tree_data_updated.csv does not exist",
     "output_type": "error",
     "traceback": [
      "\u001b[0;31m---------------------------------------------------------------------------\u001b[0m",
      "\u001b[0;31mIOError\u001b[0m                                   Traceback (most recent call last)",
      "\u001b[0;32m<ipython-input-1-cc740dc832ac>\u001b[0m in \u001b[0;36m<module>\u001b[0;34m()\u001b[0m\n\u001b[1;32m      4\u001b[0m \u001b[0;32mimport\u001b[0m \u001b[0mmatplotlib\u001b[0m\u001b[0;34m.\u001b[0m\u001b[0mpyplot\u001b[0m \u001b[0;32mas\u001b[0m \u001b[0mplt\u001b[0m\u001b[0;34m\u001b[0m\u001b[0m\n\u001b[1;32m      5\u001b[0m \u001b[0;34m\u001b[0m\u001b[0m\n\u001b[0;32m----> 6\u001b[0;31m \u001b[0mtree_data15\u001b[0m \u001b[0;34m=\u001b[0m \u001b[0mpd\u001b[0m\u001b[0;34m.\u001b[0m\u001b[0mread_csv\u001b[0m\u001b[0;34m(\u001b[0m\u001b[0;34m'2015_tree_data_updated.csv'\u001b[0m\u001b[0;34m)\u001b[0m\u001b[0;34m\u001b[0m\u001b[0m\n\u001b[0m",
      "\u001b[0;32m/Users/thomasjn/anaconda/lib/python2.7/site-packages/pandas/io/parsers.pyc\u001b[0m in \u001b[0;36mparser_f\u001b[0;34m(filepath_or_buffer, sep, delimiter, header, names, index_col, usecols, squeeze, prefix, mangle_dupe_cols, dtype, engine, converters, true_values, false_values, skipinitialspace, skiprows, skipfooter, nrows, na_values, keep_default_na, na_filter, verbose, skip_blank_lines, parse_dates, infer_datetime_format, keep_date_col, date_parser, dayfirst, iterator, chunksize, compression, thousands, decimal, lineterminator, quotechar, quoting, escapechar, comment, encoding, dialect, tupleize_cols, error_bad_lines, warn_bad_lines, skip_footer, doublequote, delim_whitespace, as_recarray, compact_ints, use_unsigned, low_memory, buffer_lines, memory_map, float_precision)\u001b[0m\n\u001b[1;32m    560\u001b[0m                     skip_blank_lines=skip_blank_lines)\n\u001b[1;32m    561\u001b[0m \u001b[0;34m\u001b[0m\u001b[0m\n\u001b[0;32m--> 562\u001b[0;31m         \u001b[0;32mreturn\u001b[0m \u001b[0m_read\u001b[0m\u001b[0;34m(\u001b[0m\u001b[0mfilepath_or_buffer\u001b[0m\u001b[0;34m,\u001b[0m \u001b[0mkwds\u001b[0m\u001b[0;34m)\u001b[0m\u001b[0;34m\u001b[0m\u001b[0m\n\u001b[0m\u001b[1;32m    563\u001b[0m \u001b[0;34m\u001b[0m\u001b[0m\n\u001b[1;32m    564\u001b[0m     \u001b[0mparser_f\u001b[0m\u001b[0;34m.\u001b[0m\u001b[0m__name__\u001b[0m \u001b[0;34m=\u001b[0m \u001b[0mname\u001b[0m\u001b[0;34m\u001b[0m\u001b[0m\n",
      "\u001b[0;32m/Users/thomasjn/anaconda/lib/python2.7/site-packages/pandas/io/parsers.pyc\u001b[0m in \u001b[0;36m_read\u001b[0;34m(filepath_or_buffer, kwds)\u001b[0m\n\u001b[1;32m    313\u001b[0m \u001b[0;34m\u001b[0m\u001b[0m\n\u001b[1;32m    314\u001b[0m     \u001b[0;31m# Create the parser.\u001b[0m\u001b[0;34m\u001b[0m\u001b[0;34m\u001b[0m\u001b[0m\n\u001b[0;32m--> 315\u001b[0;31m     \u001b[0mparser\u001b[0m \u001b[0;34m=\u001b[0m \u001b[0mTextFileReader\u001b[0m\u001b[0;34m(\u001b[0m\u001b[0mfilepath_or_buffer\u001b[0m\u001b[0;34m,\u001b[0m \u001b[0;34m**\u001b[0m\u001b[0mkwds\u001b[0m\u001b[0;34m)\u001b[0m\u001b[0;34m\u001b[0m\u001b[0m\n\u001b[0m\u001b[1;32m    316\u001b[0m \u001b[0;34m\u001b[0m\u001b[0m\n\u001b[1;32m    317\u001b[0m     \u001b[0;32mif\u001b[0m \u001b[0;34m(\u001b[0m\u001b[0mnrows\u001b[0m \u001b[0;32mis\u001b[0m \u001b[0;32mnot\u001b[0m \u001b[0mNone\u001b[0m\u001b[0;34m)\u001b[0m \u001b[0;32mand\u001b[0m \u001b[0;34m(\u001b[0m\u001b[0mchunksize\u001b[0m \u001b[0;32mis\u001b[0m \u001b[0;32mnot\u001b[0m \u001b[0mNone\u001b[0m\u001b[0;34m)\u001b[0m\u001b[0;34m:\u001b[0m\u001b[0;34m\u001b[0m\u001b[0m\n",
      "\u001b[0;32m/Users/thomasjn/anaconda/lib/python2.7/site-packages/pandas/io/parsers.pyc\u001b[0m in \u001b[0;36m__init__\u001b[0;34m(self, f, engine, **kwds)\u001b[0m\n\u001b[1;32m    643\u001b[0m             \u001b[0mself\u001b[0m\u001b[0;34m.\u001b[0m\u001b[0moptions\u001b[0m\u001b[0;34m[\u001b[0m\u001b[0;34m'has_index_names'\u001b[0m\u001b[0;34m]\u001b[0m \u001b[0;34m=\u001b[0m \u001b[0mkwds\u001b[0m\u001b[0;34m[\u001b[0m\u001b[0;34m'has_index_names'\u001b[0m\u001b[0;34m]\u001b[0m\u001b[0;34m\u001b[0m\u001b[0m\n\u001b[1;32m    644\u001b[0m \u001b[0;34m\u001b[0m\u001b[0m\n\u001b[0;32m--> 645\u001b[0;31m         \u001b[0mself\u001b[0m\u001b[0;34m.\u001b[0m\u001b[0m_make_engine\u001b[0m\u001b[0;34m(\u001b[0m\u001b[0mself\u001b[0m\u001b[0;34m.\u001b[0m\u001b[0mengine\u001b[0m\u001b[0;34m)\u001b[0m\u001b[0;34m\u001b[0m\u001b[0m\n\u001b[0m\u001b[1;32m    646\u001b[0m \u001b[0;34m\u001b[0m\u001b[0m\n\u001b[1;32m    647\u001b[0m     \u001b[0;32mdef\u001b[0m \u001b[0mclose\u001b[0m\u001b[0;34m(\u001b[0m\u001b[0mself\u001b[0m\u001b[0;34m)\u001b[0m\u001b[0;34m:\u001b[0m\u001b[0;34m\u001b[0m\u001b[0m\n",
      "\u001b[0;32m/Users/thomasjn/anaconda/lib/python2.7/site-packages/pandas/io/parsers.pyc\u001b[0m in \u001b[0;36m_make_engine\u001b[0;34m(self, engine)\u001b[0m\n\u001b[1;32m    797\u001b[0m     \u001b[0;32mdef\u001b[0m \u001b[0m_make_engine\u001b[0m\u001b[0;34m(\u001b[0m\u001b[0mself\u001b[0m\u001b[0;34m,\u001b[0m \u001b[0mengine\u001b[0m\u001b[0;34m=\u001b[0m\u001b[0;34m'c'\u001b[0m\u001b[0;34m)\u001b[0m\u001b[0;34m:\u001b[0m\u001b[0;34m\u001b[0m\u001b[0m\n\u001b[1;32m    798\u001b[0m         \u001b[0;32mif\u001b[0m \u001b[0mengine\u001b[0m \u001b[0;34m==\u001b[0m \u001b[0;34m'c'\u001b[0m\u001b[0;34m:\u001b[0m\u001b[0;34m\u001b[0m\u001b[0m\n\u001b[0;32m--> 799\u001b[0;31m             \u001b[0mself\u001b[0m\u001b[0;34m.\u001b[0m\u001b[0m_engine\u001b[0m \u001b[0;34m=\u001b[0m \u001b[0mCParserWrapper\u001b[0m\u001b[0;34m(\u001b[0m\u001b[0mself\u001b[0m\u001b[0;34m.\u001b[0m\u001b[0mf\u001b[0m\u001b[0;34m,\u001b[0m \u001b[0;34m**\u001b[0m\u001b[0mself\u001b[0m\u001b[0;34m.\u001b[0m\u001b[0moptions\u001b[0m\u001b[0;34m)\u001b[0m\u001b[0;34m\u001b[0m\u001b[0m\n\u001b[0m\u001b[1;32m    800\u001b[0m         \u001b[0;32melse\u001b[0m\u001b[0;34m:\u001b[0m\u001b[0;34m\u001b[0m\u001b[0m\n\u001b[1;32m    801\u001b[0m             \u001b[0;32mif\u001b[0m \u001b[0mengine\u001b[0m \u001b[0;34m==\u001b[0m \u001b[0;34m'python'\u001b[0m\u001b[0;34m:\u001b[0m\u001b[0;34m\u001b[0m\u001b[0m\n",
      "\u001b[0;32m/Users/thomasjn/anaconda/lib/python2.7/site-packages/pandas/io/parsers.pyc\u001b[0m in \u001b[0;36m__init__\u001b[0;34m(self, src, **kwds)\u001b[0m\n\u001b[1;32m   1211\u001b[0m         \u001b[0mkwds\u001b[0m\u001b[0;34m[\u001b[0m\u001b[0;34m'allow_leading_cols'\u001b[0m\u001b[0;34m]\u001b[0m \u001b[0;34m=\u001b[0m \u001b[0mself\u001b[0m\u001b[0;34m.\u001b[0m\u001b[0mindex_col\u001b[0m \u001b[0;32mis\u001b[0m \u001b[0;32mnot\u001b[0m \u001b[0mFalse\u001b[0m\u001b[0;34m\u001b[0m\u001b[0m\n\u001b[1;32m   1212\u001b[0m \u001b[0;34m\u001b[0m\u001b[0m\n\u001b[0;32m-> 1213\u001b[0;31m         \u001b[0mself\u001b[0m\u001b[0;34m.\u001b[0m\u001b[0m_reader\u001b[0m \u001b[0;34m=\u001b[0m \u001b[0m_parser\u001b[0m\u001b[0;34m.\u001b[0m\u001b[0mTextReader\u001b[0m\u001b[0;34m(\u001b[0m\u001b[0msrc\u001b[0m\u001b[0;34m,\u001b[0m \u001b[0;34m**\u001b[0m\u001b[0mkwds\u001b[0m\u001b[0;34m)\u001b[0m\u001b[0;34m\u001b[0m\u001b[0m\n\u001b[0m\u001b[1;32m   1214\u001b[0m \u001b[0;34m\u001b[0m\u001b[0m\n\u001b[1;32m   1215\u001b[0m         \u001b[0;31m# XXX\u001b[0m\u001b[0;34m\u001b[0m\u001b[0;34m\u001b[0m\u001b[0m\n",
      "\u001b[0;32mpandas/parser.pyx\u001b[0m in \u001b[0;36mpandas.parser.TextReader.__cinit__ (pandas/parser.c:3427)\u001b[0;34m()\u001b[0m\n",
      "\u001b[0;32mpandas/parser.pyx\u001b[0m in \u001b[0;36mpandas.parser.TextReader._setup_parser_source (pandas/parser.c:6861)\u001b[0;34m()\u001b[0m\n",
      "\u001b[0;31mIOError\u001b[0m: File 2015_tree_data_updated.csv does not exist"
     ]
    }
   ],
   "source": [
    "import pandas as pd\n",
    "import csv\n",
    "import numpy as np\n",
    "import matplotlib.pyplot as plt\n",
    "\n",
    "tree_data15 = pd.read_csv('2015_tree_data_updated.csv')"
   ]
  },
  {
   "cell_type": "markdown",
   "metadata": {},
   "source": [
    "\n",
    "### 2.2.1 More observations in the data \n",
    "### <font color='red'> DANIELE: WRITE SOMETHING ABOUT WHAT YOU FOUND</font>\n",
    "\n",
    "## 2.3 Other datasets inspected\n",
    "Multiple secondary datasets were inspected, e.g. the 311 dataset and the airpollution dataset, as well as the Street Tree datasets from 2005 and 1995, respectively. In the 311 set, there were several complaints about trees in NYC. No significant correlations were found though. It was hoped that a connected between a certain type of complaint were correlated with different problems or the health of the tree, but unfortunately data does not always behave as hoped or suspected, and patterns cannot (and should not) be forced to appear. \n",
    "\n",
    "One could also be inclined to wonder if more \"green\" areas, meaning areas with a lot of trees, had higher house prices. Again, after investigation, this was found to be challenging, since there is not a lot of information about house prices available - at least not on a neighbourhood level. \n",
    "\n",
    "It was also considered if there was a correlation between the trees/features of the trees and the air pollution. This dataset was used for simple linear regression. \n"
   ]
  },
  {
   "cell_type": "markdown",
   "metadata": {},
   "source": [
    "# 3. Theory\n",
    "\n",
    "## 3.1 Machine Learning tools\n",
    "When doing predictions it can be difficult to find the appropriate tools to use. Different tools have different qualities and it all depends on the data and the patterns in your data. In this project, different tools have been tried out, typically multiple tools for the same prediction to inspect the model performance of each tool. \n",
    "\n",
    "### 3.1.1 KNN\n",
    "KNN is a tool rather easy to grasp and implement. It was chosen for predicting the health of a tree based on GPS coordinates, as well as predicting species based on GPS coordinates. An argument for KNN being the most appropriate choice is that one could think that when planting trees, one would be inclined to plant the same trees together. One could also think that unhealthy trees are likely in the same area, presumable because of a decease in the area, a pollution problem, soil problems or something completely different. A drawback of the KNN method is that when dealing when an unbalanced dataset it will favour the most occuring observation. \n",
    "\n",
    "### 3.1.2 Decision trees\n",
    "Decision trees can often be a good choice because they are nice to visualize. A drawback is that they tend to overfit the training data. It was used for predicting health based on GPS coordinates, as well as species based on GPS coordinates in spite of its drawback. When predicting species different features were added to see if they contributed to the predictions, e.g. the diameter. The main reason was to compare with the other results. If the decision trees did not overfit and still performed well, then it would be nice to visualize. To accomodate the overfitting issue a random forest was also tried out.\n",
    "\n",
    "Decision trees were also used to predict diameter based on species and problems, as well as predicting diamater based on the amount of problems. Here, the diameter was binned in bins of different sizes (1-10, 10-15, 15-20, ..., 45-50, 50-60, 60-70, ..., 90-100, 100-150, 150-200, ...)\n",
    "\n",
    "### 3.1.3 SVM\n",
    "As a third tool, Support Vector Machines were tried out. SVMs can do linear classification by creating a \"maximum seperating hyperplane\" between data. It can also do non-linear classification using a so-called kernel-trick where inputs are mapped to high-dimensional feature space. This was used to predict health based on GPS coordinates. \n",
    "\n",
    "### 3.1.4 Apriori\n",
    "Apriori is an algorithm for frequent item search. It was used to inspect problems appearing together.\n",
    "<font color='red'> DANIELE: ADD MORE?</font>\n",
    "\n",
    "### 3.1.5 Linear regression\n",
    "Linear regression was used to inspect correlation between different features, and is not really a machine learning tool as much as a tool for investigating linear correlations. It was used to predict air pollution based on the amount of trees as well as diameter. \n",
    "\n",
    "## 3.2 Model selection\n",
    "When selecting appropriate models, first thing is to split the data into a training set and a test set. \n",
    "When predicting health (or species) based on GPS coordinates, a test set consisting of 15% of the total amount of observations was used. Hereafter the training set was \"split\" into a training set and a validation set, using a 5-fold cross-validation. The best model was chosen based on accuracy scored, but with computation time taken into account as well. For the KNN, different values of $k$ was tried, ranging from $K=2,...,10$. The limit was set to 10 because it was not expected that we would have a whole area of unhealthy trees, and that might just confuse the predictions. \n",
    "\n",
    "### <font color='red'> DANIELE: MISSING INFO - WHAT DID YOU Do?</font>\n",
    "\n",
    "## 3.3 Model performance\n",
    "For predicting species and health based on GPS coordinates, KNN was selected as the best model. SVM simply took a significant amount of time to run, making it difficult to fine tune and handle. Decision trees overfitted the training data and was not good at handling sparse data.\n",
    "\n",
    "For predicting species, the KNN classifier was able to predict $51.7$% accurately for $K=4$ on the test data, whereas the average (average over the 5 folds) performance on the validation set were $49.9$% (compared to $49$% for decision trees). This is considered rather good, taken into account that it is labelling $20$ different species, but it would also suggest that the same species is not always planted next to each other. They are actually not planted next to each other more often than expected before investigating the data. \n",
    "    In comparison, when only trying to predict the top 5 species instead of all 20 species, the average performance on the validation set were $70.4$% for $K=4$. This also confirms that the same species are not always planted next to each other, and shows, as expected, that the model performs better when addressing fewer species. \n",
    "\n",
    "For predicting health, the KNN classifier was able to predict $80.7$% accurately for $K=5$ on the test data, whereas the average (over the 5 folds) performance on the valdiation set were $80.4$% (compared to $74.8$% for decision trees). An accuracy of $80.7$% is rather good considering the sparsity of the \"fair\" and \"poor\" tree observations. The KNN did handle the sparsity trees better than the decision tree classifier. When it labeled a tree as \"fair\" it had around $43$% correct (on the validation set for $K=5$). A bit worse it went for the \"poor\" classifications, here it only predicted around $1/3$ correctly. It was, as we thought, much better at predicting the good trees. This makes sense since there were a lot more training data available. In comparison, the decision tree classifier had around $31$% correct for the \"fair\" trees, and $17$% for the \"poor\" trees. The amount of misclassifications on the \"poor\" and \"fair\" trees suggests that the condition of the trees do not really reflect on its neighbours and are most likely caused by other, individual things. \n",
    "\n",
    "### <font color='red'>DANIELE: WRITE SOMETHING ABOUT YOUR MODELS PERFORMANCE</font>"
   ]
  },
  {
   "cell_type": "markdown",
   "metadata": {},
   "source": [
    "# 4. Visualizations\n",
    "\n",
    "## 4.1 Borough-basics\n",
    "The d3 pie charts show the basic distributions of the data: Amount of trees in each borough and the size of each borough. They were chosen so the user was able to get a clear view of the differences between the boroughs. As comparison, the other pie chart shows the size each borough. Here, it is obvious that the amount of trees in each borough roughly corresponds to the size of the borough, and the exact percentage can be viewed when hovering over each borough. \n",
    "\n",
    "These charts are important for the project since they introduce the user to the topic: What are the different boroughs, how are they different with regards to size and amount of trees? \n",
    "\n",
    "## 4.2 Tree distribution of top 5 species\n",
    "The d3 bar chart show the distribution of the 5 most common species in NYC for each borough, as well as NYC. This illustrates the borough-wise differences regarding the most common trees. E.g. the London Planetree is the most common tree in NYC. It is also the most common tree in Queens. Queens is the largest area in NYC both regarding trees and size, as shown in the pie charts. Therefore it might be that most of NYC's London Planetrees are located in Queens, but as it can be seen from the chart, most of them actually comes from Brooklyn. The chart also have the option of changing the years from 2015 to either 2005 or 1995, and hereby see the differences over time as well. \n",
    "\n",
    "This chart is important for the project since it enables the user to view the distribution of the most common trees in NYC on borough level for the three different years available: 1995, 2005, 2015. This helps us show the changes in street trees in NYC over time.\n",
    "\n",
    "## 4.3 Fun facts about the top 10 species\n",
    "This page enables the user to hover over pictures of leaves for the 10 most common species to see the species name, and then when clicking a leaf image, fun facts about these trees appear. \n",
    "\n",
    "This function is important for the project since it sets each of the trees in a context: What is it called? What is its ranking? How many trees are there of this species? What is special/interesting about the species? Why is it a good street tree compared to others? \n",
    "\n",
    "## 4.4 Health of the NYC street trees\n",
    "The d3 geoplot enables the user to view a prediction of the health of the NYC street trees, using KNN as a classifier. It is possible to hover for details, and to switch between visualizing the good, fair, and poor trees. \n",
    "### <font color='red'> THOMAS: MORE? add something about your plot</font>\n",
    "\n",
    "The geoplot is important for the project since it shows the location of the trees with different health. Because of the large amount of data points it would have created a too confusing picture to visualize all three health states at the same time. \n",
    "\n",
    "## 4.5 Scatterplot\n",
    "### <font color='red'> DANIELE: MISSING PLOT - write something about your plot</font>"
   ]
  },
  {
   "cell_type": "markdown",
   "metadata": {},
   "source": [
    "# 5. Discussion\n",
    "When working with the project, two things became clear to us: \n",
    "1) Real life data is messy\n",
    "2) Data do not care what you think of them\n",
    "\n",
    "It is possible to have good intentions, and a lot of good ideas as to what to do when analyzing a dataset, but the data itself just have limitations that are not always possible to overcome. \n",
    "\n",
    "## 5.1 What went well?\n",
    "During the project, a lot of things did not go as expected. First of all, the pattern we expected to find in the data was just not there. The intention was to find correlation between the problems of the trees and the health, possible also correlation with the diameter. A lot of basic Pearson correlations was done on the data, but it appeared that there actually were no significant correlations. Then a lot of other datasets were inspected to see if they were correlated with some of the tree data features. Not a lot of great things appeared, so we tried keeping to the basics and that went quite well.\n",
    "\n",
    "We managed to create a lot of plots and visualizations of the data, showing the fundamentals counts. We also managed to apply different machine learning methods, though they only showed us what the preliminary analysis did: In general, there were not really large areas with problematic trees, and that could not really be related to the health. The health was sparse, influencing the predictions. \n",
    "\n",
    "## 5.2 Possible improvements\n",
    "If there was more data available to join with the street tree data, we might have been able to find a nice pattern/correlation, but in spite of our efforts to do so, we did not manage to find such data set. \n",
    "\n",
    "We could also have focused on one prediction goal instead of trying to find a lot of different patterns, that turned out to not be there. E.g. we could have focused on predicting species based but with some other tools, since KNN obviously was not the best choice. A suggestion would be to try do some binary classifications, locating e.g. London Planetrees using SVMs.\n",
    "\n",
    "## 5.3 What is still missing?\n",
    "In the end, what we actually missed was patterns in the data so we could have done some more advanced and great predictions. But patterns cannot be forced, so with that in mind, we could have used more visualizations for the predictions we did. We kept the website basic to try to create some beautiful visualizations of the basic stats instead of trying to visualize predictions in different ways. This choice was made based on the lack of good patterns. We did not really want to show a lot of predictions if they were not actually useful. "
   ]
  },
  {
   "cell_type": "markdown",
   "metadata": {},
   "source": [
    "# Appendix: Code"
   ]
  },
  {
   "cell_type": "markdown",
   "metadata": {},
   "source": [
    "## Loading data"
   ]
  },
  {
   "cell_type": "code",
   "execution_count": 2,
   "metadata": {
    "collapsed": false
   },
   "outputs": [],
   "source": [
    "#Import data\n",
    "import pandas as pd\n",
    "import csv\n",
    "\n",
    "tree_data = pd.read_csv('2015_tree_data_updated.csv')"
   ]
  },
  {
   "cell_type": "code",
   "execution_count": 4,
   "metadata": {
    "collapsed": false
   },
   "outputs": [],
   "source": [
    "#Convert health categories to numbers. 1: Poor, 2: Fair, 3: Good. Higher = Better\n",
    "health = []\n",
    "for i in range(len(tree_data['Health'])):\n",
    "    if tree_data['Health'][i] == 'Good':\n",
    "        health.append(3)\n",
    "    elif tree_data['Health'][i] == 'Fair':\n",
    "        health.append(2)\n",
    "    elif tree_data['Health'][i] == 'Poor':\n",
    "        health.append(1)\n",
    "    else:\n",
    "        health.append(0)\n",
    "        #print \"err\", tree_data['Health'][i], i"
   ]
  },
  {
   "cell_type": "markdown",
   "metadata": {},
   "source": [
    "## Data analysis"
   ]
  },
  {
   "cell_type": "code",
   "execution_count": 5,
   "metadata": {
    "collapsed": false
   },
   "outputs": [
    {
     "name": "stdout",
     "output_type": "stream",
     "text": [
      "Queens           195985\n",
      "Brooklyn         138760\n",
      "Staten Island     82619\n",
      "Bronx             63035\n",
      "Manhattan         54115\n",
      "Name: Borough, dtype: int64\n"
     ]
    }
   ],
   "source": [
    "#Count no. of trees in each borough:\n",
    "boros = tree_data['Borough'].unique()\n",
    "print tree_data['Borough'].value_counts()"
   ]
  },
  {
   "cell_type": "markdown",
   "metadata": {},
   "source": [
    "### Data for histogram"
   ]
  },
  {
   "cell_type": "code",
   "execution_count": 6,
   "metadata": {
    "collapsed": false
   },
   "outputs": [
    {
     "name": "stdout",
     "output_type": "stream",
     "text": [
      "Queens data:\n",
      "[(31111, 'London planetree'), (22610, 'pin oak'), (20290, 'honeylocust'), (19407, 'Norway maple'), (16547, 'Callery pear'), (13497, 'cherry'), (11902, 'littleleaf linden'), (8987, 'Japanese zelkova'), (7389, 'green ash'), (6116, 'silver maple'), (5971, 'ginkgo'), (5386, 'Sophora'), (4935, 'red maple'), (4769, 'American linden'), (4146, 'silver linden'), (3035, 'purple-leaf plum'), (2992, 'maple'), (2697, 'northern red oak'), (2489, 'sweetgum'), (1709, 'American elm')]\n"
     ]
    }
   ],
   "source": [
    "#2015 data \n",
    "\n",
    "import numpy as np\n",
    "\n",
    "#NYC top 20 species\n",
    "unique, counts = np.unique(zip(tree_data['Spc_Common']), return_counts=True)\n",
    "sorted(zip(counts, unique), reverse = True)\n",
    "\n",
    "#Extract data for each borough\n",
    "tree_data_bronx = tree_data.loc[tree_data['Borough'] == 'Bronx']\n",
    "tree_data_brook = tree_data.loc[tree_data['Borough'] == 'Brooklyn']\n",
    "tree_data_stat = tree_data.loc[tree_data['Borough'] == 'Staten Island']\n",
    "tree_data_manh = tree_data.loc[tree_data['Borough'] == 'Manhattan']\n",
    "tree_data_queens = tree_data.loc[tree_data['Borough'] == 'Queens']\n",
    "\n",
    "#Bronx\n",
    "unique, counts = np.unique(zip(tree_data_bronx['Spc_Common']), return_counts=True)\n",
    "sorted(zip(counts, unique), reverse = True)\n",
    "\n",
    "#Brooklyn\n",
    "unique, counts = np.unique(zip(tree_data_brook['Spc_Common']), return_counts=True)\n",
    "sorted(zip(counts, unique), reverse = True)\n",
    "\n",
    "#Staten Island\n",
    "unique, counts = np.unique(zip(tree_data_stat['Spc_Common']), return_counts=True)\n",
    "sorted(zip(counts, unique), reverse = True)\n",
    "\n",
    "#Manhattan\n",
    "unique, counts = np.unique(zip(tree_data_manh['Spc_Common']), return_counts=True)\n",
    "sorted(zip(counts, unique), reverse = True)\n",
    "\n",
    "#Queens\n",
    "unique, counts = np.unique(zip(tree_data_queens['Spc_Common']), return_counts=True)\n",
    "print \"Queens data:\"\n",
    "print sorted(zip(counts, unique), reverse = True)"
   ]
  },
  {
   "cell_type": "code",
   "execution_count": 7,
   "metadata": {
    "collapsed": false
   },
   "outputs": [
    {
     "name": "stderr",
     "output_type": "stream",
     "text": [
      "C:\\Users\\Cecilie\\.anaconda\\lib\\site-packages\\IPython\\core\\interactiveshell.py:2717: DtypeWarning: Columns (6,8) have mixed types. Specify dtype option on import or set low_memory=False.\n",
      "  interactivity=interactivity, compiler=compiler, result=result)\n"
     ]
    },
    {
     "name": "stdout",
     "output_type": "stream",
     "text": [
      "Queens data:\n",
      "[(43756, 'MAPLE, NORWAY'), (32406, 'LONDON PLANETREE'), (19475, 'OAK, PIN'), (17428, 'PEAR, CALLERY'), (17136, 'HONEYLOCUST'), (11618, 'LINDEN, LITTLE LEAF'), (10179, 'MAPLE, SILVER'), (9422, 'ASH, GREEN'), (8012, 'UNKNOWN'), (7113, 'MAPLE, RED'), (5189, 'OAK, NORTHERN RED'), (5159, 'CHERRY, OTHER'), (4953, 'GINKGO'), (4537, 'ZELKOVA, JAPANESE'), (3064, 'LINDEN, AMERICAN'), (3010, 'MAPLE, NORWAY-CR KNG'), (2907, 'LINDEN, SILVER'), (2042, 'JAPANESE PAGODA TREE'), (1803, 'SWEETGUM'), (1449, 'ELM, AMERICAN')]\n"
     ]
    }
   ],
   "source": [
    "#2005 data\n",
    "import pandas as pd\n",
    "import numpy as np\n",
    "\n",
    "tree_data = pd.read_csv('2005_tree_data_updated.csv')\n",
    "\n",
    "#NYC top 20 species\n",
    "unique, counts = np.unique(zip(tree_data['Spc_Common']), return_counts=True)\n",
    "sorted(zip(counts, unique), reverse = True)\n",
    "\n",
    "#Extract data for each borough\n",
    "tree_data_bronx = tree_data.loc[tree_data['Borough'] == 'Bronx']\n",
    "tree_data_brook = tree_data.loc[tree_data['Borough'] == 'Brooklyn']\n",
    "tree_data_stat = tree_data.loc[tree_data['Borough'] == 5]\n",
    "tree_data_manh = tree_data.loc[tree_data['Borough'] == 'Manhattan']\n",
    "tree_data_queens = tree_data.loc[tree_data['Borough'] == 'Queens']\n",
    "\n",
    "#Bronx\n",
    "unique, counts = np.unique(zip(tree_data_bronx['Spc_Common']), return_counts=True)\n",
    "sorted(zip(counts, unique), reverse = True)\n",
    "\n",
    "#Brooklyn\n",
    "unique, counts = np.unique(zip(tree_data_brook['Spc_Common']), return_counts=True)\n",
    "sorted(zip(counts, unique), reverse = True)\n",
    "\n",
    "#Staten Island\n",
    "unique, counts = np.unique(zip(tree_data_stat['Spc_Common']), return_counts=True)\n",
    "sorted(zip(counts, unique), reverse = True)\n",
    "\n",
    "#Manhattan\n",
    "unique, counts = np.unique(zip(tree_data_manh['Spc_Common']), return_counts=True)\n",
    "sorted(zip(counts, unique), reverse = True)\n",
    "\n",
    "#Queens\n",
    "unique, counts = np.unique(zip(tree_data_queens['Spc_Common']), return_counts=True)\n",
    "print \"Queens data:\"\n",
    "print sorted(zip(counts, unique), reverse = True)"
   ]
  },
  {
   "cell_type": "code",
   "execution_count": 8,
   "metadata": {
    "collapsed": false
   },
   "outputs": [
    {
     "name": "stdout",
     "output_type": "stream",
     "text": [
      "Queens data:\n",
      "[(68738, 'MAPLE, NORWAY'), (32148, 'LONDON PLANETREE'), (17062, 'OAK, PIN'), (12117, 'MAPLE, SILVER'), (11684, 'LINDEN, LITTLE LEAF'), (10902, 'HONEYLOCUST'), (8991, 'PEAR, CALLERY'), (8716, 'ASH, GREEN'), (8294, 'PLANTING SITE'), (6840, 'MAPLE, SUGAR'), (5223, 'UNKNOWN LIVE TREES'), (4828, 'MAPLE, RED'), (4143, 'UNKNOWN DEAD TREES'), (4059, 'GINKGO'), (3334, 'MAPLE, SYCAMORE'), (3076, 'JAPANESE PAGODA TREE'), (2407, 'OAK, NORTHERN RED'), (2284, 'ZELKOVA, JAPANESE'), (1919, 'ELM, AMERICAN'), (1198, 'SWEETGUM')]\n"
     ]
    }
   ],
   "source": [
    "#1995 data\n",
    "import pandas as pd\n",
    "import numpy as np\n",
    "\n",
    "tree_data = pd.read_csv('1995_tree_data_updated.csv')\n",
    "\n",
    "#NYC top 20 species\n",
    "unique, counts = np.unique(zip(tree_data['Spc_Common']), return_counts=True)\n",
    "sorted(zip(counts, unique), reverse = True)\n",
    "\n",
    "#Extract data for each borough\n",
    "tree_data_bronx = tree_data.loc[tree_data['Borough'] == 'Bronx']\n",
    "tree_data_brook = tree_data.loc[tree_data['Borough'] == 'Brooklyn']\n",
    "tree_data_stat = tree_data.loc[tree_data['Borough'] == 'Staten Island']\n",
    "tree_data_manh = tree_data.loc[tree_data['Borough'] == 'Manhattan']\n",
    "tree_data_queens = tree_data.loc[tree_data['Borough'] == 'Queens']\n",
    "\n",
    "#Bronx\n",
    "unique, counts = np.unique(zip(tree_data_bronx['Spc_Common']), return_counts=True)\n",
    "sorted(zip(counts, unique), reverse = True)\n",
    "\n",
    "#Brooklyn\n",
    "unique, counts = np.unique(zip(tree_data_brook['Spc_Common']), return_counts=True)\n",
    "sorted(zip(counts, unique), reverse = True)\n",
    "\n",
    "#Staten Island\n",
    "unique, counts = np.unique(zip(tree_data_stat['Spc_Common']), return_counts=True)\n",
    "sorted(zip(counts, unique), reverse = True)\n",
    "\n",
    "#Manhattan\n",
    "unique, counts = np.unique(zip(tree_data_manh['Spc_Common']), return_counts=True)\n",
    "sorted(zip(counts, unique), reverse = True)\n",
    "\n",
    "#Queens\n",
    "unique, counts = np.unique(zip(tree_data_queens['Spc_Common']), return_counts=True)\n",
    "print \"Queens data:\"\n",
    "print sorted(zip(counts, unique), reverse = True)"
   ]
  },
  {
   "cell_type": "markdown",
   "metadata": {},
   "source": [
    "## Predicting species based on location"
   ]
  },
  {
   "cell_type": "code",
   "execution_count": 9,
   "metadata": {
    "collapsed": false
   },
   "outputs": [
    {
     "name": "stdout",
     "output_type": "stream",
     "text": [
      "KNN score for k = 2 : 0.486175963727\n",
      "KNN score for k = 3 : 0.495101214143\n",
      "KNN score for k = 4 : 0.499324634213\n",
      "KNN score for k = 5 : 0.503074537327\n",
      "KNN score for k = 6 : 0.50482382433\n",
      "KNN score for k = 7 : 0.506176855665\n",
      "KNN score for k = 8 : 0.507447748267\n",
      "KNN score for k = 9 : 0.508404531114\n",
      "KNN score for k = 10 : 0.508791118292\n"
     ]
    }
   ],
   "source": [
    "#KNN classifier\n",
    "\n",
    "#Load relevant libraries\n",
    "import numpy as np\n",
    "import pylab as pl\n",
    "from sklearn import neighbors, datasets, model_selection\n",
    "\n",
    "#Split data set into a training and a test set\n",
    "X_train, X_test, y_train, y_test = model_selection.train_test_split(zip(tree_data['Latitude'], tree_data['Longitude'] )\n",
    "                                                    , tree_data['Spc_Common']\n",
    "                                                    , test_size=0.15\n",
    "                                                    , random_state=42)\n",
    "\n",
    "\n",
    "accuracy = []\n",
    "#Classify KNN with K=2-10\n",
    "for k in range(2,11):\n",
    "    knn = neighbors.KNeighborsClassifier(n_neighbors=k, weights = \"distance\")\n",
    "\n",
    "    #Fit the data and make predictions\n",
    "    knn.fit(X_train, y_train).predict(X_test)\n",
    "\n",
    "    #Calculate accuracy from validation set\n",
    "    n_folds = 5\n",
    "    score = np.mean(model_selection.cross_val_score(knn.fit(X_train, y_train),X_train, y_train,cv=n_folds))\n",
    "    print \"KNN score for k =\", k, \":\", score\n",
    "    \n",
    "    #Save accuracy into a list\n",
    "    accuracy.append(score)"
   ]
  },
  {
   "cell_type": "code",
   "execution_count": 10,
   "metadata": {
    "collapsed": false
   },
   "outputs": [
    {
     "data": {
      "image/png": "[encoded data removed]",
      "text/plain": [
       "<matplotlib.figure.Figure at 0x12d61f98>"
      ]
     },
     "metadata": {},
     "output_type": "display_data"
    }
   ],
   "source": [
    "#Plot accuracy as a function of the number of K (2-10)\n",
    "import matplotlib.pyplot as plt\n",
    "\n",
    "plt.figure(figsize=(20,5))\n",
    "ks = range(2, 11)\n",
    "plt.plot(ks, accuracy)\n",
    "plt.xticks(ks)\n",
    "plt.xlabel(\"k\")\n",
    "plt.ylabel(\"Accuracy\")\n",
    "plt.title(\"Prediction accuracy as a function of k\")\n",
    "plt.show()"
   ]
  },
  {
   "cell_type": "code",
   "execution_count": 12,
   "metadata": {
    "collapsed": false
   },
   "outputs": [
    {
     "name": "stdout",
     "output_type": "stream",
     "text": [
      "0.517340051206\n"
     ]
    }
   ],
   "source": [
    "#K=4 was chosen for simplicity compared to accuracy\n",
    "\n",
    "#Test score\n",
    "knn = neighbors.KNeighborsClassifier(n_neighbors=4, weights = \"distance\")\n",
    "\n",
    "#Fit the data and make predictions\n",
    "knn.fit(X_train, y_train).predict(X_test)\n",
    "\n",
    "#Calculate accuracy\n",
    "score = knn.fit(X_train, y_train).score(X_test, y_test)\n",
    "print score"
   ]
  },
  {
   "cell_type": "code",
   "execution_count": 21,
   "metadata": {
    "collapsed": false
   },
   "outputs": [
    {
     "name": "stdout",
     "output_type": "stream",
     "text": [
      "[(87014, 'London planetree'), (64264, 'honeylocust'), (58931, 'Callery pear'), (53185, 'pin oak'), (34189, 'Norway maple'), (29742, 'littleleaf linden'), (29279, 'cherry'), (29258, 'Japanese zelkova'), (21024, 'ginkgo'), (19338, 'Sophora'), (17246, 'red maple'), (16251, 'green ash'), (13530, 'American linden'), (12277, 'silver maple'), (10657, 'sweetgum'), (8400, 'northern red oak'), (7995, 'silver linden'), (7975, 'American elm'), (7080, 'maple'), (6879, 'purple-leaf plum')]\n",
      "297583\n",
      "KNN score for k = 2 : 0.704081936424\n",
      "KNN score for k = 3 : 0.702540110987\n",
      "KNN score for k = 4 : 0.704034511536\n",
      "KNN score for k = 5 : 0.702745680523\n",
      "KNN score for k = 6 : 0.701962891889\n",
      "KNN score for k = 7 : 0.701346174765\n",
      "KNN score for k = 8 : 0.700005955431\n",
      "KNN score for k = 9 : 0.698875265002\n",
      "KNN score for k = 10 : 0.69768924392\n"
     ]
    }
   ],
   "source": [
    "tree_data = pd.read_csv('2015_tree_data_updated.csv')\n",
    "\n",
    "unique, counts = np.unique(zip(tree_data['Spc_Common']), return_counts=True)\n",
    "print sorted(zip(counts, unique), reverse = True)\n",
    "#Try doing KNN for only the top 5 species\n",
    "top5_spec = ['London planetree','honeylocust', 'Callery pear','pin oak', 'Norway maple']\n",
    "tree_spec5 = []\n",
    "tree_lat5 = []\n",
    "tree_lon5 = []\n",
    "for i in range(len(tree_data)):\n",
    "    if tree_data['Spc_Common'][i] in top5_spec:\n",
    "        tree_spec5.append(tree_data['Spc_Common'][i])\n",
    "        tree_lat5.append(tree_data['Latitude'][i])\n",
    "        tree_lon5.append(tree_data['Longitude'][i])\n",
    "print len(tree_spec5)\n",
    "#print tree_spec5[:10]\n",
    "#print tree_lat5[:10]\n",
    "#print tree_lon5[:10]\n",
    "\n",
    "#KNN classifier\n",
    "#Load relevant libraries\n",
    "import numpy as np\n",
    "import pylab as pl\n",
    "from sklearn import neighbors, datasets, model_selection\n",
    "\n",
    "#Split data set into a training and a test set\n",
    "X_train, X_test, y_train, y_test = model_selection.train_test_split(zip(tree_lat5, tree_lon5)\n",
    "                                                    , tree_spec5\n",
    "                                                    , test_size=0.15\n",
    "                                                    , random_state=42)\n",
    "\n",
    "accuracy = []\n",
    "#Classify KNN with K=2-10\n",
    "for k in range(2,11):\n",
    "    knn = neighbors.KNeighborsClassifier(n_neighbors=k, weights = \"distance\")\n",
    "    \n",
    "    #Fit the data and make predictions\n",
    "    knn.fit(X_train, y_train).predict(X_test)\n",
    "\n",
    "    #Calculate accuracy\n",
    "    #score = knn.fit(X_train, y_train).score(X_test, y_test)\n",
    "    n_folds = 5\n",
    "    score = np.mean(model_selection.cross_val_score(knn.fit(X_train, y_train),X_train, y_train,cv=n_folds))\n",
    "    print \"KNN score for k =\", k, \":\", score\n",
    "    \n",
    "    #Save accuracy into a list\n",
    "    accuracy.append(score)"
   ]
  },
  {
   "cell_type": "code",
   "execution_count": 13,
   "metadata": {
    "collapsed": false
   },
   "outputs": [
    {
     "name": "stdout",
     "output_type": "stream",
     "text": [
      "Decision tree accuracy: 0.490227832205\n"
     ]
    }
   ],
   "source": [
    "#Create Decision tree classifier\n",
    "\n",
    "#Load relevant libraries\n",
    "import numpy as np\n",
    "from sklearn import tree\n",
    "from sklearn import model_selection\n",
    "\n",
    "#Split data set into a training and a test set\n",
    "X_train, X_test, y_train, y_test = model_selection.train_test_split(zip(tree_data['Latitude'], tree_data['Longitude'])\n",
    "                                                    , tree_data['Spc_Common']\n",
    "                                                    , test_size=0.15\n",
    "                                                    , random_state=42)\n",
    "\n",
    "#Classify Decision trees\n",
    "dt = tree.DecisionTreeClassifier(random_state = 42)\n",
    "\n",
    "#Fit the data and make predictions\n",
    "dt.fit(X_train, y_train).predict(X_test)\n",
    "\n",
    "#Calculate accuracy\n",
    "#score = dtnn.fit(X_train, y_train).score(X_test, y_test)\n",
    "n_folds = 5\n",
    "score = np.mean(model_selection.cross_val_score(dt.fit(X_train, y_train),X_train, y_train,cv=n_folds))\n",
    "print \"Decision tree accuracy:\", score"
   ]
  },
  {
   "cell_type": "markdown",
   "metadata": {},
   "source": [
    "## Classify health based on location"
   ]
  },
  {
   "cell_type": "code",
   "execution_count": 22,
   "metadata": {
    "collapsed": false
   },
   "outputs": [
    {
     "name": "stderr",
     "output_type": "stream",
     "text": [
      "C:\\Users\\Cecilie\\.anaconda\\lib\\site-packages\\numpy\\lib\\arraysetops.py:200: FutureWarning: numpy not_equal will not check object identity in the future. The comparison did not return the same result as suggested by the identity (`is`)) and will change.\n",
      "  flag = np.concatenate(([True], aux[1:] != aux[:-1]))\n",
      "C:\\Users\\Cecilie\\.anaconda\\lib\\site-packages\\sklearn\\model_selection\\_split.py:581: Warning: The least populated class in y has only 2 members, which is too few. The minimum number of groups for any class cannot be less than n_splits=5.\n",
      "  % (min_groups, self.n_splits)), Warning)\n"
     ]
    },
    {
     "name": "stdout",
     "output_type": "stream",
     "text": [
      "KNN score for k = 2 : 0.768112149227\n",
      "KNN score for k = 3 : 0.789842752784\n",
      "KNN score for k = 4 : 0.798109764942\n",
      "KNN score for k = 5 : 0.804213182933\n",
      "KNN score for k = 6 : 0.80804514699\n",
      "KNN score for k = 7 : 0.810998909425\n",
      "KNN score for k = 8 : 0.813439834781\n",
      "KNN score for k = 9 : 0.815178637038\n",
      "KNN score for k = 10 : 0.816549869474\n"
     ]
    }
   ],
   "source": [
    "#Adjust KNN classifyer\n",
    "\n",
    "#Load relevant libraries\n",
    "import numpy as np\n",
    "import pylab as pl\n",
    "from sklearn import neighbors, datasets, model_selection\n",
    "\n",
    "#Split data set into a training and a test set\n",
    "X_train, X_test, y_train, y_test = model_selection.train_test_split(zip(tree_data['Latitude'], tree_data['Longitude'])\n",
    "                                                    , tree_data['Health']\n",
    "                                                    , test_size=0.15\n",
    "                                                    , random_state=42)\n",
    "\n",
    "accuracy = []\n",
    "#Classify KNN with K=2-10\n",
    "for k in range(2,11):\n",
    "    knn = neighbors.KNeighborsClassifier(n_neighbors=k, weights=\"distance\")\n",
    "\n",
    "    #Fit the data and make predictions\n",
    "    knn_pred = knn.fit(X_train, y_train).predict(X_test)\n",
    "\n",
    "    #Calculate accuracy\n",
    "    #score = knn.fit(X_train, y_train).score(X_test, y_test)\n",
    "    n_folds = 5\n",
    "    score = np.mean(model_selection.cross_val_score(knn.fit(X_train, y_train),X_train, y_train,cv=n_folds))\n",
    "    print \"KNN score for k =\", k, \":\", score\n",
    "    \n",
    "    #Save accuracy into a list\n",
    "    accuracy.append(score)"
   ]
  },
  {
   "cell_type": "code",
   "execution_count": 23,
   "metadata": {
    "collapsed": false
   },
   "outputs": [
    {
     "name": "stdout",
     "output_type": "stream",
     "text": [
      "0.806917109432\n"
     ]
    }
   ],
   "source": [
    "#Test accuracy\n",
    "\n",
    "knn = neighbors.KNeighborsClassifier(n_neighbors=5, weights=\"distance\")\n",
    "#Fit the data and make predictions\n",
    "knn_pred = knn.fit(X_train, y_train).predict(X_test)\n",
    "\n",
    "#Calculate accuracy\n",
    "score = knn.fit(X_train, y_train).score(X_test, y_test)\n",
    "print score"
   ]
  },
  {
   "cell_type": "code",
   "execution_count": 24,
   "metadata": {
    "collapsed": false
   },
   "outputs": [
    {
     "name": "stdout",
     "output_type": "stream",
     "text": [
      "Decision tree accuracy: 0.748111525321\n"
     ]
    }
   ],
   "source": [
    "#Create Decision tree classifier\n",
    "\n",
    "#Load relevant libraries\n",
    "import numpy as np\n",
    "from sklearn import tree\n",
    "from sklearn import model_selection\n",
    "\n",
    "\n",
    "#Split data set into a training and a test set\n",
    "X_train, X_test, y_train, y_test = model_selection.train_test_split(zip(tree_data['Latitude'], tree_data['Longitude'])\n",
    "                                                    , tree_data['Health']\n",
    "                                                    , test_size=0.15\n",
    "                                                    , random_state=42)\n",
    "\n",
    "#Classify Decision trees\n",
    "dt = tree.DecisionTreeClassifier(random_state = 42)\n",
    "\n",
    "#Fit the data and make predictions\n",
    "dt_pred = dt.fit(X_train, y_train).predict(X_test)\n",
    "\n",
    "#Calculate accuracy\n",
    "#score = dtnn.fit(X_train, y_train).score(X_test, y_test)\n",
    "n_folds = 5\n",
    "score = np.mean(model_selection.cross_val_score(dt.fit(X_train, y_train),X_train, y_train,cv=n_folds))\n",
    "print \"Decision tree accuracy:\", score"
   ]
  },
  {
   "cell_type": "code",
   "execution_count": null,
   "metadata": {
    "collapsed": false
   },
   "outputs": [],
   "source": [
    "# Create SVM classifier\n",
    "\n",
    "#Load relevant libraries\n",
    "import numpy as np\n",
    "from sklearn import svm\n",
    "from sklearn import model_selection\n",
    "\n",
    "#Split data set into a training and a test set\n",
    "X_train, X_test, y_train, y_test = model_selection.train_test_split(zip(tree_data['Latitude'], tree_data['Longitude'])\n",
    "                                                    , tree_data['Health']\n",
    "                                                    , test_size=0.15\n",
    "                                                    , random_state=42)\n",
    "\n",
    "#Classify Decision trees\n",
    "svm = svm.SVC(random_state = 42)\n",
    "\n",
    "#Fit the data and make predictions\n",
    "svm.fit(X_train, y_train).predict(X_test)\n",
    "\n",
    "#Calculate accuracy\n",
    "#score = dtnn.fit(X_train, y_train).score(X_test, y_test)\n",
    "n_folds = 5\n",
    "score = np.mean(model_selection.cross_val_score(svm.fit(X_train, y_train),X_train, y_train,cv=n_folds))\n",
    "print \"SVM accuracy:\", score"
   ]
  },
  {
   "cell_type": "code",
   "execution_count": null,
   "metadata": {
    "collapsed": true
   },
   "outputs": [],
   "source": []
  }
 ],
 "metadata": {
  "anaconda-cloud": {},
  "kernelspec": {
   "display_name": "Python [default]",
   "language": "python",
   "name": "python2"
  },
  "language_info": {
   "codemirror_mode": {
    "name": "ipython",
    "version": 2
   },
   "file_extension": ".py",
   "mimetype": "text/x-python",
   "name": "python",
   "nbconvert_exporter": "python",
   "pygments_lexer": "ipython2",
   "version": "2.7.12"
  }
 },
 "nbformat": 4,
 "nbformat_minor": 0
}
